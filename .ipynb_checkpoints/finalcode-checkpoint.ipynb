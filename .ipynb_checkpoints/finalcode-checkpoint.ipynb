{
 "cells": [
  {
   "cell_type": "code",
   "execution_count": 1,
   "metadata": {},
   "outputs": [],
   "source": [
    "import cv2\n",
    "import numpy as np "
   ]
  },
  {
   "cell_type": "code",
   "execution_count": 2,
   "metadata": {},
   "outputs": [],
   "source": [
    "faceDetect = cv2.CascadeClassifier('haarcascade_frontalface_default.xml')\n",
    "cam = cv2.VideoCapture(0)"
   ]
  },
  {
   "cell_type": "code",
   "execution_count": 3,
   "metadata": {},
   "outputs": [
    {
     "name": "stdout",
     "output_type": "stream",
     "text": [
      "Enter user id789\n"
     ]
    }
   ],
   "source": [
    "id=input('Enter user id')"
   ]
  },
  {
   "cell_type": "code",
   "execution_count": 4,
   "metadata": {},
   "outputs": [],
   "source": [
    "num=0\n",
    "while True:    \n",
    "    ret, img = cam.read()\n",
    "    gray=cv2.cvtColor(img,cv2.COLOR_BGRA2GRAY)\n",
    "    faces = faceDetect.detectMultiScale(gray,1.3,5)\n",
    "    for (x,y,w,h) in faces:\n",
    "        num=num+1\n",
    "        cv2.imwrite(\"Dataset/Image\"+str(num)+\".jpg\",gray[y:y+h,x:x+w])\n",
    "        cv2.rectangle(img, (x,y), (x+w , y+h), (0,255,0), 2)\n",
    "        cv2.waitKey(100)\n",
    "    cv2.imshow('Face' , img)\n",
    "    cv2.waitKey(1)\n",
    "    if(num >30):\n",
    "        break\n",
    "    \n",
    "cv2.destroyAllWindows()\n",
    "cam.release()"
   ]
  },
  {
   "cell_type": "code",
   "execution_count": null,
   "metadata": {},
   "outputs": [],
   "source": []
  }
 ],
 "metadata": {
  "kernelspec": {
   "display_name": "Python 3",
   "language": "python",
   "name": "python3"
  },
  "language_info": {
   "codemirror_mode": {
    "name": "ipython",
    "version": 3
   },
   "file_extension": ".py",
   "mimetype": "text/x-python",
   "name": "python",
   "nbconvert_exporter": "python",
   "pygments_lexer": "ipython3",
   "version": "3.7.3"
  }
 },
 "nbformat": 4,
 "nbformat_minor": 2
}
