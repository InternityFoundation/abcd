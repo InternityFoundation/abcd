{
 "cells": [
  {
   "cell_type": "code",
   "execution_count": 20,
   "metadata": {},
   "outputs": [
    {
     "name": "stdout",
     "output_type": "stream",
     "text": [
      "Enter user id1\n"
     ]
    }
   ],
   "source": [
    "import cv2\n",
    "import os\n",
    "import numpy as np \n",
    "from PIL import Image \n",
    "from os.path import join\n",
    "\n",
    "faceDetect = cv2.CascadeClassifier('haarcascade_frontalface_default.xml')\n",
    "#cam = cv2.VideoCapture(\"pp.mp4\")\n",
    "data=r'C:\\Users\\asus\\Desktop\\create a thon\\data\\images\\detected/'\n",
    "id=input('Enter user id')\n",
    "\n",
    "num=0\n",
    "for (j, imgName) in enumerate(os.listdir(data)):\n",
    "    imgPath = join(data, imgName)\n",
    "    img=cv2.imread(imgPath)\n",
    "    gray=cv2.cvtColor(img,cv2.COLOR_BGR2GRAY)\n",
    "    faces = faceDetect.detectMultiScale(gray,1.3,5)\n",
    "    for (x,y,w,h) in faces:\n",
    "        num=num+1\n",
    "        cv2.imwrite(\"Dataset/\"+str(num)+\".jpg\",gray[y:y+h,x:x+w])\n",
    "        #cv2.rectangle(img, (x,y), (x+w , y+h), (255,255,255), 4)\n",
    "   \n",
    "cv2.destroyAllWindows()\n",
    "#cam.release()\n",
    "\n"
   ]
  },
  {
   "cell_type": "code",
   "execution_count": 22,
   "metadata": {},
   "outputs": [
    {
     "name": "stdout",
     "output_type": "stream",
     "text": [
      "1\n",
      "10\n",
      "11\n",
      "12\n",
      "13\n",
      "14\n",
      "2\n",
      "3\n",
      "4\n",
      "5\n",
      "6\n",
      "7\n",
      "8\n",
      "9\n"
     ]
    }
   ],
   "source": [
    "from datetime import datetime\n",
    "\n",
    "recognizer = cv2.face.LBPHFaceRecognizer_create()\n",
    "path='Dataset'\n",
    "\n",
    "def getFaceWithID(path):\n",
    "        imgpaths=[os.path.join(path,f) for f in os.listdir(path)]\n",
    "        faces=[]\n",
    "        IDs=[]\n",
    "        for imgpath in imgpaths:\n",
    "                faceimg=Image.open(imgpath).convert('L');\n",
    "                faceNp=np.array(faceimg,'uint8')\n",
    "                ID=int(os.path.split(imgpath)[-1].split('.')[0])\n",
    "                faces.append(faceNp)\n",
    "                print (ID)\n",
    "                IDs.append(ID)\n",
    "                cv2.imshow(\"training\",faceNp)\n",
    "                cv2.waitKey(10)\n",
    "        return np.array(IDs), faces\n",
    "\n",
    "Ids,faces = getFaceWithID(path)\n",
    "recognizer.train(faces,Ids)\n",
    "recognizer.write(\"recognizer/trainingData.yml\")\n",
    "cv2.destroyAllWindows()\n",
    "\n"
   ]
  },
  {
   "cell_type": "code",
   "execution_count": 50,
   "metadata": {},
   "outputs": [
    {
     "ename": "TypeError",
     "evalue": "'int' object is not iterable",
     "output_type": "error",
     "traceback": [
      "\u001b[1;31m---------------------------------------------------------------------------\u001b[0m",
      "\u001b[1;31mTypeError\u001b[0m                                 Traceback (most recent call last)",
      "\u001b[1;32m<ipython-input-50-1609b17bc082>\u001b[0m in \u001b[0;36m<module>\u001b[1;34m\u001b[0m\n\u001b[0;32m     18\u001b[0m         \u001b[1;31m#cv2.rectangle(img, (x,y), (x+w , y+h), (0,255,0), 2)\u001b[0m\u001b[1;33m\u001b[0m\u001b[1;33m\u001b[0m\u001b[1;33m\u001b[0m\u001b[0m\n\u001b[0;32m     19\u001b[0m         \u001b[0mid\u001b[0m\u001b[1;33m,\u001b[0m\u001b[0mconf\u001b[0m\u001b[1;33m=\u001b[0m\u001b[0mrec\u001b[0m\u001b[1;33m.\u001b[0m\u001b[0mpredict\u001b[0m\u001b[1;33m(\u001b[0m\u001b[0mgray\u001b[0m\u001b[1;33m[\u001b[0m\u001b[0my\u001b[0m\u001b[1;33m:\u001b[0m\u001b[0my\u001b[0m\u001b[1;33m+\u001b[0m\u001b[0mh\u001b[0m\u001b[1;33m,\u001b[0m\u001b[0mx\u001b[0m\u001b[1;33m:\u001b[0m\u001b[0mx\u001b[0m\u001b[1;33m+\u001b[0m\u001b[0mw\u001b[0m\u001b[1;33m]\u001b[0m\u001b[1;33m)\u001b[0m\u001b[1;33m\u001b[0m\u001b[1;33m\u001b[0m\u001b[0m\n\u001b[1;32m---> 20\u001b[1;33m         \u001b[1;32mfor\u001b[0m \u001b[0mi\u001b[0m \u001b[1;32min\u001b[0m \u001b[0mid\u001b[0m\u001b[1;33m:\u001b[0m\u001b[1;33m\u001b[0m\u001b[1;33m\u001b[0m\u001b[0m\n\u001b[0m\u001b[0;32m     21\u001b[0m             \u001b[0mtoday\u001b[0m\u001b[1;33m=\u001b[0m\u001b[0mdatetime\u001b[0m\u001b[1;33m.\u001b[0m\u001b[0mtoday\u001b[0m\u001b[1;33m(\u001b[0m\u001b[1;33m)\u001b[0m\u001b[1;33m\u001b[0m\u001b[1;33m\u001b[0m\u001b[0m\n\u001b[0;32m     22\u001b[0m             \u001b[0mdate\u001b[0m\u001b[1;33m=\u001b[0m\u001b[0mtoday\u001b[0m\u001b[1;33m.\u001b[0m\u001b[0mstrftime\u001b[0m\u001b[1;33m(\u001b[0m\u001b[1;34m\"%d/%m/%y\"\u001b[0m\u001b[1;33m)\u001b[0m\u001b[1;33m\u001b[0m\u001b[1;33m\u001b[0m\u001b[0m\n",
      "\u001b[1;31mTypeError\u001b[0m: 'int' object is not iterable"
     ]
    }
   ],
   "source": [
    "import csv\n",
    "from datetime import datetime\n",
    "\n",
    "faceDetect = cv2.CascadeClassifier('haarcascade_frontalface_default.xml')\n",
    "#cam = cv2.VideoCapture(0)\n",
    "\n",
    "rec=cv2.face.LBPHFaceRecognizer_create()\n",
    "rec.read(\"recognizer\\\\trainingData.yml\")\n",
    "\n",
    "id=0\n",
    "font = cv2.FONT_HERSHEY_SIMPLEX\n",
    "    \n",
    "imgp = r'C:\\Users\\asus\\Desktop\\create a thon\\data\\images\\frame690.jpg'\n",
    "img = cv2.imread(imgp)\n",
    "gray=cv2.cvtColor(img,cv2.COLOR_BGRA2GRAY)\n",
    "faces = faceDetect.detectMultiScale(gray,1.3,5)\n",
    "for (x,y,w,h) in faces:\n",
    "        #cv2.rectangle(img, (x,y), (x+w , y+h), (0,255,0), 2)\n",
    "        id,conf=rec.predict(gray[y:y+h,x:x+w])\n",
    "        today=datetime.today()\n",
    "        date=today.strftime(\"%d/%m/%y\")\n",
    "        now= datetime.now()\n",
    "        time = now.strftime(\"%H:%M:%S\")\n",
    "        filename = \"detector.csv\"\n",
    "        fields = ['Id','Date','Time']\n",
    "        rows=[[str(id),date,time]]\n",
    "        with open(filename, 'w') as csvfile:  \n",
    "            csvwriter = csv.writer(csvfile)  \n",
    "            csvwriter.writerow(fields)   \n",
    "            csvwriter.writerows(rows)\n",
    "\n",
    "#cam.release()\n",
    "cv2.destroyAllWindows()"
   ]
  },
  {
   "cell_type": "code",
   "execution_count": 45,
   "metadata": {},
   "outputs": [
    {
     "name": "stdout",
     "output_type": "stream",
     "text": [
      "09/07/20\n"
     ]
    }
   ],
   "source": [
    "\n",
    "\n"
   ]
  },
  {
   "cell_type": "code",
   "execution_count": 4,
   "metadata": {},
   "outputs": [],
   "source": []
  }
 ],
 "metadata": {
  "kernelspec": {
   "display_name": "Python 3",
   "language": "python",
   "name": "python3"
  },
  "language_info": {
   "codemirror_mode": {
    "name": "ipython",
    "version": 3
   },
   "file_extension": ".py",
   "mimetype": "text/x-python",
   "name": "python",
   "nbconvert_exporter": "python",
   "pygments_lexer": "ipython3",
   "version": "3.7.3"
  }
 },
 "nbformat": 4,
 "nbformat_minor": 2
}
