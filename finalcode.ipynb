{
 "cells": [
  {
   "cell_type": "code",
   "execution_count": 2,
   "metadata": {},
   "outputs": [
    {
     "ename": "ModuleNotFoundError",
     "evalue": "No module named 'cv2'",
     "output_type": "error",
     "traceback": [
      "\u001b[1;31m---------------------------------------------------------------------------\u001b[0m",
      "\u001b[1;31mModuleNotFoundError\u001b[0m                       Traceback (most recent call last)",
      "\u001b[1;32m<ipython-input-2-d47184915a2b>\u001b[0m in \u001b[0;36m<module>\u001b[1;34m\u001b[0m\n\u001b[1;32m----> 1\u001b[1;33m \u001b[1;32mimport\u001b[0m \u001b[0mcv2\u001b[0m\u001b[1;33m\u001b[0m\u001b[1;33m\u001b[0m\u001b[0m\n\u001b[0m\u001b[0;32m      2\u001b[0m \u001b[1;32mimport\u001b[0m \u001b[0mos\u001b[0m\u001b[1;33m\u001b[0m\u001b[1;33m\u001b[0m\u001b[0m\n\u001b[0;32m      3\u001b[0m \u001b[1;32mimport\u001b[0m \u001b[0mnumpy\u001b[0m \u001b[1;32mas\u001b[0m \u001b[0mnp\u001b[0m\u001b[1;33m\u001b[0m\u001b[1;33m\u001b[0m\u001b[0m\n\u001b[0;32m      4\u001b[0m \u001b[1;32mfrom\u001b[0m \u001b[0mPIL\u001b[0m \u001b[1;32mimport\u001b[0m \u001b[0mImage\u001b[0m\u001b[1;33m\u001b[0m\u001b[1;33m\u001b[0m\u001b[0m\n\u001b[0;32m      5\u001b[0m \u001b[1;33m\u001b[0m\u001b[0m\n",
      "\u001b[1;31mModuleNotFoundError\u001b[0m: No module named 'cv2'"
     ]
    }
   ],
   "source": [
    "import cv2\n",
    "import os\n",
    "import numpy as np\n",
    "from PIL import Image\n",
    "\n",
    "faceDetect = cv2.CascadeClassifier('haarcascade_frontalface_default.xml')\n",
    "cam = cv2.VideoCapture(0)\n",
    "\n",
    "id=input('Enter user id')\n",
    "\n",
    "num=0\n",
    "while True:    \n",
    "    ret, img = cam.read()\n",
    "    gray=cv2.cvtColor(img,cv2.COLOR_BGRA2GRAY)\n",
    "    faces = faceDetect.detectMultiScale(gray,1.3,5)\n",
    "    for (x,y,w,h) in faces:\n",
    "        num=num+1\n",
    "        cv2.imwrite(\"Dataset/\"+str(num)+\".jpg\",gray[y:y+h,x:x+w])\n",
    "        cv2.rectangle(img, (x,y), (x+w , y+h), (255,255,255), 4)\n",
    "        cv2.waitKey(100)\n",
    "    cv2.imshow('Face' , img)\n",
    "    cv2.waitKey(1)\n",
    "    if(num >100):\n",
    "        break  \n",
    "cv2.destroyAllWindows()\n",
    "cam.release()\n",
    "\n",
    "recognizer = cv2.face.LBPHFaceRecognizer_create()\n",
    "path='Dataset'\n",
    "\n",
    "def getFaceWithID(path):\n",
    "        imgpaths=[os.path.join(path,f) for f in os.listdir(path)]\n",
    "        faces=[]\n",
    "        IDs=[]\n",
    "        for imgpath in imgpaths:\n",
    "                faceimg=Image.open(imgpath).convert('L');\n",
    "                faceNp=np.array(faceimg,'uint8')\n",
    "                ID=int(os.path.split(imgpath)[-1].split('.')[0])\n",
    "                faces.append(faceNp)\n",
    "                print (ID)\n",
    "                IDs.append(ID)\n",
    "                cv2.imshow(\"training\",faceNp)\n",
    "                cv2.waitKey(10)\n",
    "        return np.array(IDs), faces\n",
    "\n",
    "Ids,faces = getFaceWithID(path)\n",
    "recognizer.train(faces,Ids)\n",
    "recognizer.write(\"recognizer/trainingData.yml\")\n",
    "cv2.destroyAllWindows()\n",
    "\n",
    "faceDetect = cv2.CascadeClassifier('haarcascade_frontalface_default.xml')\n",
    "cam = cv2.VideoCapture(0)\n",
    "\n",
    "rec=cv2.face.LBPHFaceRecognizer_create()\n",
    "rec.read(\"recognizer\\\\trainingData.yml\")\n",
    "\n",
    "id=0\n",
    "font = cv2.FONT_HERSHEY_SIMPLEX\n",
    "\n",
    "while True:    \n",
    "    ret, img = cam.read()\n",
    "    gray=cv2.cvtColor(img,cv2.COLOR_BGRA2GRAY)\n",
    "    faces = faceDetect.detectMultiScale(gray,1.3,5)\n",
    "    for (x,y,w,h) in faces:\n",
    "        cv2.rectangle(img, (x,y), (x+w , y+h), (0,255,0), 2)\n",
    "        id,conf=rec.predict(gray[y:y+h,x:x+w])\n",
    "        cv2.putText(img,str(id), (x,y+h),font,4,(255,255,0),4,cv2.LINE_AA)\n",
    "    cv2.imshow('Face' , img);\n",
    "    if(cv2.waitKey(1)==ord('q')):\n",
    "        break;\n",
    "\n",
    "cam.release()\n",
    "cv2.destroyAllWindows()\n"
   ]
  },
  {
   "cell_type": "code",
   "execution_count": null,
   "metadata": {},
   "outputs": [],
   "source": [
    "er4"
   ]
  }
 ],
 "metadata": {
  "kernelspec": {
   "display_name": "Python 3",
   "language": "python",
   "name": "python3"
  },
  "language_info": {
   "codemirror_mode": {
    "name": "ipython",
    "version": 3
   },
   "file_extension": ".py",
   "mimetype": "text/x-python",
   "name": "python",
   "nbconvert_exporter": "python",
   "pygments_lexer": "ipython3",
   "version": "3.7.3"
  }
 },
 "nbformat": 4,
 "nbformat_minor": 2
}
